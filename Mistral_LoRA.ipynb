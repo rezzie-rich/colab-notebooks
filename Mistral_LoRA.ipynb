{
  "nbformat": 4,
  "nbformat_minor": 0,
  "metadata": {
    "colab": {
      "provenance": [],
      "authorship_tag": "ABX9TyNyLuR9KGzFwQpjABu7gS/A",
      "include_colab_link": true
    },
    "kernelspec": {
      "name": "python3",
      "display_name": "Python 3"
    },
    "language_info": {
      "name": "python"
    }
  },
  "cells": [
    {
      "cell_type": "markdown",
      "metadata": {
        "id": "view-in-github",
        "colab_type": "text"
      },
      "source": [
        "<a href=\"https://colab.research.google.com/github/rezzie-rich/colab-notebooks/blob/main/Mistral_LoRA.ipynb\" target=\"_parent\"><img src=\"https://colab.research.google.com/assets/colab-badge.svg\" alt=\"Open In Colab\"/></a>"
      ]
    },
    {
      "cell_type": "markdown",
      "source": [
        "# Advanced Training Script for Mistral 7B with PEFT LoRA"
      ],
      "metadata": {
        "id": "GNDBd6VWyVls"
      }
    },
    {
      "cell_type": "code",
      "execution_count": null,
      "metadata": {
        "id": "VWmcMUGks_ZP"
      },
      "outputs": [],
      "source": [
        "# Setup and Installation\n",
        "!pip install -q transformers datasets bitsandbytes-cuda11 peft huggingface_hub\n",
        "from huggingface_hub import notebook_login\n",
        "\n",
        "# Authenticate with Hugging Face\n",
        "notebook_login()\n",
        "\n",
        "# Import required libraries\n",
        "from transformers import AutoModelForCausalLM, AutoTokenizer, Trainer, TrainingArguments\n",
        "from datasets import load_dataset\n",
        "from peft import LoraConfig, prepare_model_for_kbit_training, merge_adapter\n",
        "import time\n",
        "import torch\n",
        "\n",
        "# Base Model Configuration\n",
        "model_name = \"mistralai/Mistral-7B-v0.1\"\n",
        "model = AutoModelForCausalLM.from_pretrained(model_name, torch_dtype=torch.bfloat16)\n",
        "tokenizer = AutoTokenizer.from_pretrained(model_name)\n",
        "\n",
        "# Advanced: Sequential Training Option (Uncomment for sequential training)\n",
        "# datasets_list = [\"dataset1_name\", \"dataset2_name\", \"dataset3_name\"]\n",
        "# sequential_training = True\n",
        "\n",
        "# For Non-Sequential Training\n",
        "sequential_training = False\n",
        "dataset_name = \"your_dataset_name_here\"\n",
        "\n",
        "# Configure LoRA with Default Options\n",
        "lora_config = LoraConfig(r=8, lora_alpha=16, target_modules=[\"q_proj\", \"k_proj\", \"v_proj\", \"o_proj\"])\n",
        "model = prepare_model_for_kbit_training(model, lora_config)\n",
        "\n",
        "# Advanced: Custom LoRA Configuration (Uncomment if needed)\n",
        "# lora_config = LoraConfig(r=16, lora_alpha=32, target_modules=[\"q\", \"v\"], lora_dropout=0.05, bias=\"none\")\n",
        "\n",
        "# Hyperparameter Configuration\n",
        "training_args = {\n",
        "    \"learning_rate\": 5e-5,\n",
        "    \"per_device_train_batch_size\": 16,\n",
        "    \"num_train_epochs\": 3,\n",
        "}\n",
        "\n",
        "# Training Loop\n",
        "def run_training(dataset_name):\n",
        "    dataset = load_dataset(dataset_name)\n",
        "    training_args_modified = TrainingArguments(\n",
        "        output_dir=f\"./model_output_{dataset_name}\",\n",
        "        **training_args,\n",
        "        fp16=True,\n",
        "        gradient_checkpointing=True\n",
        "    )\n",
        "    trainer = Trainer(\n",
        "        model=model,\n",
        "        args=training_args_modified,\n",
        "        train_dataset=dataset[\"train\"],\n",
        "        eval_dataset=dataset[\"test\"]\n",
        "    )\n",
        "    trainer.train()\n",
        "    model.save_pretrained(f\"checkpoint_after_{dataset_name}\")\n",
        "    print(f\"Training on {dataset_name} completed.\")\n",
        "\n",
        "# Execute Training\n",
        "if sequential_training:\n",
        "    for ds in datasets_list:\n",
        "        run_training(ds)\n",
        "        print(f\"Taking a break before next dataset...\")\n",
        "        time.sleep(300)  # 5-minute break\n",
        "else:\n",
        "    run_training(dataset_name)\n",
        "\n",
        "# Upload the Model to Hugging Face\n",
        "trainer.push_to_hub(\"Your_HF_Repo_Name\")\n",
        "\n",
        "# Advanced: Merging LoRA weights into the base model (Uncomment if needed)\n",
        "# merge_adapter(model, \"adapter_name\")\n",
        "\n",
        "# Additional Notes\n",
        "# Ensure data preprocessing and training configurations are appropriate for your use case.\n",
        "# Regularly evaluate model performance using validation datasets.\n",
        "# Consider data augmentation and regularization techniques to prevent overfitting."
      ]
    }
  ]
}